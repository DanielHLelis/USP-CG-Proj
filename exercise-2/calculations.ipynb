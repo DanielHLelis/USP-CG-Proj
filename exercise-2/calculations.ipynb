{
 "cells": [
  {
   "cell_type": "code",
   "execution_count": 2,
   "metadata": {},
   "outputs": [],
   "source": [
    "import sympy as sp\n",
    "\n",
    "from sympy.abc import x, y, z, a, b, c, theta, alpha, beta, gamma"
   ]
  },
  {
   "cell_type": "code",
   "execution_count": 6,
   "metadata": {},
   "outputs": [],
   "source": [
    "D = 6\n",
    "M = 2"
   ]
  },
  {
   "cell_type": "code",
   "execution_count": 26,
   "metadata": {},
   "outputs": [
    {
     "data": {
      "text/latex": [
       "$\\displaystyle \\left[\\begin{matrix}\\cos{\\left(\\theta \\right)} & - \\sin{\\left(\\theta \\right)} & t_{x} \\cos{\\left(\\theta \\right)} - t_{y} \\sin{\\left(\\theta \\right)}\\\\\\sin{\\left(\\theta \\right)} & \\cos{\\left(\\theta \\right)} & t_{x} \\sin{\\left(\\theta \\right)} + t_{y} \\cos{\\left(\\theta \\right)}\\\\0 & 0 & 1\\end{matrix}\\right]$"
      ],
      "text/plain": [
       "Matrix([\n",
       "[cos(theta), -sin(theta), t_x*cos(theta) - t_y*sin(theta)],\n",
       "[sin(theta),  cos(theta), t_x*sin(theta) + t_y*cos(theta)],\n",
       "[         0,           0,                               1]])"
      ]
     },
     "execution_count": 26,
     "metadata": {},
     "output_type": "execute_result"
    }
   ],
   "source": [
    "# Ex. 2\n",
    "tx, ty = sp.symbols('t_x t_y')\n",
    "\n",
    "T = sp.Matrix([\n",
    "    [1, 0, tx],\n",
    "    [0, 1, ty],\n",
    "    [0, 0, 1]\n",
    "])\n",
    "\n",
    "R = sp.Matrix([\n",
    "    [sp.cos(theta), -sp.sin(theta), 0],\n",
    "    [sp.sin(theta), sp.cos(theta), 0],\n",
    "    [0, 0, 1]\n",
    "])\n",
    "\n",
    "R @ T"
   ]
  },
  {
   "cell_type": "code",
   "execution_count": 12,
   "metadata": {},
   "outputs": [
    {
     "data": {
      "text/latex": [
       "$\\displaystyle \\left[\\begin{matrix}2 & 0 & 0\\\\0 & 2 & 0\\\\0 & 0 & 1\\end{matrix}\\right]$"
      ],
      "text/plain": [
       "Matrix([\n",
       "[2, 0, 0],\n",
       "[0, 2, 0],\n",
       "[0, 0, 1]])"
      ]
     },
     "metadata": {},
     "output_type": "display_data"
    },
    {
     "name": "stdout",
     "output_type": "stream",
     "text": [
      "\\left[\\begin{matrix}2 & 0 & 0\\\\0 & 2 & 0\\\\0 & 0 & 1\\end{matrix}\\right]\n"
     ]
    },
    {
     "data": {
      "text/latex": [
       "$\\displaystyle \\left[\\begin{matrix}1 & 0 & 2\\\\0 & 1 & 6\\\\0 & 0 & 1\\end{matrix}\\right]$"
      ],
      "text/plain": [
       "Matrix([\n",
       "[1, 0, 2],\n",
       "[0, 1, 6],\n",
       "[0, 0, 1]])"
      ]
     },
     "metadata": {},
     "output_type": "display_data"
    },
    {
     "name": "stdout",
     "output_type": "stream",
     "text": [
      "\\left[\\begin{matrix}1 & 0 & 2\\\\0 & 1 & 6\\\\0 & 0 & 1\\end{matrix}\\right]\n"
     ]
    },
    {
     "data": {
      "text/latex": [
       "$\\displaystyle \\left[\\begin{matrix}2 & 0 & 4\\\\0 & 2 & 12\\\\0 & 0 & 1\\end{matrix}\\right]$"
      ],
      "text/plain": [
       "Matrix([\n",
       "[2, 0,  4],\n",
       "[0, 2, 12],\n",
       "[0, 0,  1]])"
      ]
     },
     "metadata": {},
     "output_type": "display_data"
    },
    {
     "name": "stdout",
     "output_type": "stream",
     "text": [
      "\\left[\\begin{matrix}2 & 0 & 4\\\\0 & 2 & 12\\\\0 & 0 & 1\\end{matrix}\\right]\n"
     ]
    }
   ],
   "source": [
    "# Ex. 3\n",
    "sx, sy = sp.symbols('s_x s_y')\n",
    "\n",
    "S = sp.Matrix([\n",
    "    [sx, 0, 0],\n",
    "    [0, sy, 0],\n",
    "    [0, 0, 1]\n",
    "])\n",
    "\n",
    "\n",
    "s_3 = S.subs({sx: 2, sy: 2})\n",
    "t_3 = T.subs({tx: M, ty: D})\n",
    "f_3 = s_3 @ t_3\n",
    "\n",
    "display(s_3)\n",
    "print(sp.latex(s_3))\n",
    "display(t_3)\n",
    "print(sp.latex(t_3))\n",
    "display(f_3)\n",
    "print(sp.latex(f_3))\n",
    "\n"
   ]
  },
  {
   "cell_type": "code",
   "execution_count": 14,
   "metadata": {},
   "outputs": [
    {
     "name": "stdout",
     "output_type": "stream",
     "text": [
      "\\left[\\begin{matrix}- \\sin{\\left(D \\right)} \\sin{\\left(M \\right)} + \\cos{\\left(D \\right)} \\cos{\\left(M \\right)} & - \\sin{\\left(D \\right)} \\cos{\\left(M \\right)} - \\sin{\\left(M \\right)} \\cos{\\left(D \\right)} & 0\\\\\\sin{\\left(D \\right)} \\cos{\\left(M \\right)} + \\sin{\\left(M \\right)} \\cos{\\left(D \\right)} & - \\sin{\\left(D \\right)} \\sin{\\left(M \\right)} + \\cos{\\left(D \\right)} \\cos{\\left(M \\right)} & 0\\\\0 & 0 & 1\\end{matrix}\\right]\n"
     ]
    }
   ],
   "source": [
    "## Ex. 4\n",
    "\n",
    "print(sp.latex(R.subs({theta: 'M'}) @ R.subs({theta: 'D'})))"
   ]
  },
  {
   "cell_type": "code",
   "execution_count": 15,
   "metadata": {},
   "outputs": [
    {
     "data": {
      "text/latex": [
       "$\\displaystyle \\left[\\begin{matrix}1 & 0 & 80\\\\0 & 1 & 60\\\\0 & 0 & 1\\end{matrix}\\right]$"
      ],
      "text/plain": [
       "Matrix([\n",
       "[1, 0, 80],\n",
       "[0, 1, 60],\n",
       "[0, 0,  1]])"
      ]
     },
     "metadata": {},
     "output_type": "display_data"
    },
    {
     "name": "stdout",
     "output_type": "stream",
     "text": [
      "\\left[\\begin{matrix}1 & 0 & 80\\\\0 & 1 & 60\\\\0 & 0 & 1\\end{matrix}\\right]\n"
     ]
    },
    {
     "data": {
      "text/latex": [
       "$\\displaystyle \\left[\\begin{matrix}2 & 0 & 0\\\\0 & 2 & 0\\\\0 & 0 & 1\\end{matrix}\\right]$"
      ],
      "text/plain": [
       "Matrix([\n",
       "[2, 0, 0],\n",
       "[0, 2, 0],\n",
       "[0, 0, 1]])"
      ]
     },
     "metadata": {},
     "output_type": "display_data"
    },
    {
     "name": "stdout",
     "output_type": "stream",
     "text": [
      "\\left[\\begin{matrix}2 & 0 & 0\\\\0 & 2 & 0\\\\0 & 0 & 1\\end{matrix}\\right]\n"
     ]
    },
    {
     "data": {
      "text/latex": [
       "$\\displaystyle \\left[\\begin{matrix}2 & 0 & 160\\\\0 & 2 & 120\\\\0 & 0 & 1\\end{matrix}\\right]$"
      ],
      "text/plain": [
       "Matrix([\n",
       "[2, 0, 160],\n",
       "[0, 2, 120],\n",
       "[0, 0,   1]])"
      ]
     },
     "metadata": {},
     "output_type": "display_data"
    },
    {
     "name": "stdout",
     "output_type": "stream",
     "text": [
      "\\left[\\begin{matrix}2 & 0 & 160\\\\0 & 2 & 120\\\\0 & 0 & 1\\end{matrix}\\right]\n"
     ]
    }
   ],
   "source": [
    "## Ex. 5\n",
    "\n",
    "t_5 = T.subs({tx: 80, ty: 60})\n",
    "s_5 = S.subs({sx: 2, sy: 2})\n",
    "f_5 = s_5 @ t_5\n",
    "\n",
    "display(t_5)\n",
    "print(sp.latex(t_5))\n",
    "display(s_5)\n",
    "print(sp.latex(s_5))\n",
    "display(f_5)\n",
    "print(sp.latex(f_5))"
   ]
  },
  {
   "cell_type": "code",
   "execution_count": 19,
   "metadata": {},
   "outputs": [
    {
     "data": {
      "text/latex": [
       "$\\displaystyle \\left[\\begin{matrix}1 & 0 & 0.2\\\\0 & 1 & 0.2\\\\0 & 0 & 1\\end{matrix}\\right]$"
      ],
      "text/plain": [
       "Matrix([\n",
       "[1, 0, 0.2],\n",
       "[0, 1, 0.2],\n",
       "[0, 0,   1]])"
      ]
     },
     "metadata": {},
     "output_type": "display_data"
    },
    {
     "name": "stdout",
     "output_type": "stream",
     "text": [
      "\\left[\\begin{matrix}1 & 0 & 0.2\\\\0 & 1 & 0.2\\\\0 & 0 & 1\\end{matrix}\\right]\n"
     ]
    },
    {
     "data": {
      "text/latex": [
       "$\\displaystyle \\left[\\begin{matrix}1.2 & -1 & 3.2\\\\1.6 & 2 & -1.8\\\\0 & 0 & 1\\end{matrix}\\right]$"
      ],
      "text/plain": [
       "Matrix([\n",
       "[1.2, -1,  3.2],\n",
       "[1.6,  2, -1.8],\n",
       "[  0,  0,    1]])"
      ]
     },
     "metadata": {},
     "output_type": "display_data"
    },
    {
     "name": "stdout",
     "output_type": "stream",
     "text": [
      "\\left[\\begin{matrix}1.2 & -1 & 3.2\\\\1.6 & 2 & -1.8\\\\0 & 0 & 1\\end{matrix}\\right]\n"
     ]
    },
    {
     "data": {
      "text/latex": [
       "$\\displaystyle \\left[\\begin{matrix}3.2\\\\-1.8\\\\1\\end{matrix}\\right]$"
      ],
      "text/plain": [
       "Matrix([\n",
       "[ 3.2],\n",
       "[-1.8],\n",
       "[   1]])"
      ]
     },
     "metadata": {},
     "output_type": "display_data"
    },
    {
     "name": "stdout",
     "output_type": "stream",
     "text": [
      "\\left[\\begin{matrix}3.2\\\\-1.8\\\\1\\end{matrix}\\right]\n"
     ]
    },
    {
     "data": {
      "text/latex": [
       "$\\displaystyle \\left[\\begin{matrix}4.4\\\\-0.2\\\\1\\end{matrix}\\right]$"
      ],
      "text/plain": [
       "Matrix([\n",
       "[ 4.4],\n",
       "[-0.2],\n",
       "[   1]])"
      ]
     },
     "metadata": {},
     "output_type": "display_data"
    },
    {
     "name": "stdout",
     "output_type": "stream",
     "text": [
      "\\left[\\begin{matrix}4.4\\\\-0.2\\\\1\\end{matrix}\\right]\n"
     ]
    },
    {
     "data": {
      "text/latex": [
       "$\\displaystyle \\left[\\begin{matrix}2.2\\\\0.2\\\\1\\end{matrix}\\right]$"
      ],
      "text/plain": [
       "Matrix([\n",
       "[2.2],\n",
       "[0.2],\n",
       "[  1]])"
      ]
     },
     "metadata": {},
     "output_type": "display_data"
    },
    {
     "name": "stdout",
     "output_type": "stream",
     "text": [
      "\\left[\\begin{matrix}2.2\\\\0.2\\\\1\\end{matrix}\\right]\n"
     ]
    }
   ],
   "source": [
    "## Ex. 6\n",
    "\n",
    "T_6 = sp.Matrix([\n",
    "    [1.2, -1, 3],\n",
    "    [1.6, 2, -2],\n",
    "    [0, 0, 1]\n",
    "])\n",
    "\n",
    "_T_6 = T.subs({tx: M/10, ty: M/10})\n",
    "\n",
    "A_6 = sp.Matrix([0, 0, 1])\n",
    "B_6 = sp.Matrix([1, 0, 1])\n",
    "C_6 = sp.Matrix([0, 1, 1])\n",
    "\n",
    "M_6 = _T_6 @ T_6\n",
    "\n",
    "display(_T_6)\n",
    "print(sp.latex(_T_6))\n",
    "\n",
    "display(M_6)\n",
    "print(sp.latex(M_6))\n",
    "\n",
    "display(M_6 @ A_6)\n",
    "print(sp.latex(M_6 @ A_6))\n",
    "\n",
    "display(M_6 @ B_6)\n",
    "print(sp.latex(M_6 @ B_6))\n",
    "\n",
    "display(M_6 @ C_6)\n",
    "print(sp.latex(M_6 @ C_6))"
   ]
  },
  {
   "cell_type": "code",
   "execution_count": 20,
   "metadata": {},
   "outputs": [
    {
     "data": {
      "text/latex": [
       "$\\displaystyle \\left[\\begin{matrix}1 & 0 & 10\\\\0 & 1 & 10\\\\0 & 0 & 1\\end{matrix}\\right]$"
      ],
      "text/plain": [
       "Matrix([\n",
       "[1, 0, 10],\n",
       "[0, 1, 10],\n",
       "[0, 0,  1]])"
      ]
     },
     "metadata": {},
     "output_type": "display_data"
    },
    {
     "name": "stdout",
     "output_type": "stream",
     "text": [
      "\\left[\\begin{matrix}1 & 0 & 10\\\\0 & 1 & 10\\\\0 & 0 & 1\\end{matrix}\\right]\n"
     ]
    },
    {
     "data": {
      "text/latex": [
       "$\\displaystyle \\left[\\begin{matrix}0 & -1 & 0\\\\1 & 0 & 0\\\\0 & 0 & 1\\end{matrix}\\right]$"
      ],
      "text/plain": [
       "Matrix([\n",
       "[0, -1, 0],\n",
       "[1,  0, 0],\n",
       "[0,  0, 1]])"
      ]
     },
     "metadata": {},
     "output_type": "display_data"
    },
    {
     "name": "stdout",
     "output_type": "stream",
     "text": [
      "\\left[\\begin{matrix}0 & -1 & 0\\\\1 & 0 & 0\\\\0 & 0 & 1\\end{matrix}\\right]\n"
     ]
    },
    {
     "data": {
      "text/latex": [
       "$\\displaystyle \\left[\\begin{matrix}0 & -1 & 10\\\\1 & 0 & 10\\\\0 & 0 & 1\\end{matrix}\\right]$"
      ],
      "text/plain": [
       "Matrix([\n",
       "[0, -1, 10],\n",
       "[1,  0, 10],\n",
       "[0,  0,  1]])"
      ]
     },
     "metadata": {},
     "output_type": "display_data"
    },
    {
     "name": "stdout",
     "output_type": "stream",
     "text": [
      "\\left[\\begin{matrix}0 & -1 & 10\\\\1 & 0 & 10\\\\0 & 0 & 1\\end{matrix}\\right]\n"
     ]
    },
    {
     "data": {
      "text/latex": [
       "$\\displaystyle \\left[\\begin{matrix}0 & -1 & -10\\\\1 & 0 & 10\\\\0 & 0 & 1\\end{matrix}\\right]$"
      ],
      "text/plain": [
       "Matrix([\n",
       "[0, -1, -10],\n",
       "[1,  0,  10],\n",
       "[0,  0,   1]])"
      ]
     },
     "metadata": {},
     "output_type": "display_data"
    },
    {
     "name": "stdout",
     "output_type": "stream",
     "text": [
      "\\left[\\begin{matrix}0 & -1 & -10\\\\1 & 0 & 10\\\\0 & 0 & 1\\end{matrix}\\right]\n"
     ]
    }
   ],
   "source": [
    "# Ex. 7\n",
    "\n",
    "A_7 = T.subs({tx: 10, ty: 10})\n",
    "B_7 = R.subs({theta: sp.pi/2})\n",
    "\n",
    "M_7 = A_7 @ B_7\n",
    "N_7 = B_7 @ A_7\n",
    "\n",
    "display(A_7)\n",
    "print(sp.latex(A_7))\n",
    "\n",
    "display(B_7)\n",
    "print(sp.latex(B_7))\n",
    "\n",
    "display(M_7)\n",
    "print(sp.latex(M_7))\n",
    "\n",
    "display(N_7)\n",
    "print(sp.latex(N_7))\n",
    "\n"
   ]
  },
  {
   "cell_type": "code",
   "execution_count": 21,
   "metadata": {},
   "outputs": [
    {
     "data": {
      "text/latex": [
       "$\\displaystyle \\left[\\begin{matrix}s_{x} \\cos{\\left(\\theta \\right)} & - s_{y} \\sin{\\left(\\theta \\right)} & 0\\\\s_{x} \\sin{\\left(\\theta \\right)} & s_{y} \\cos{\\left(\\theta \\right)} & 0\\\\0 & 0 & 1\\end{matrix}\\right]$"
      ],
      "text/plain": [
       "Matrix([\n",
       "[s_x*cos(theta), -s_y*sin(theta), 0],\n",
       "[s_x*sin(theta),  s_y*cos(theta), 0],\n",
       "[             0,               0, 1]])"
      ]
     },
     "metadata": {},
     "output_type": "display_data"
    },
    {
     "name": "stdout",
     "output_type": "stream",
     "text": [
      "\\left[\\begin{matrix}s_{x} \\cos{\\left(\\theta \\right)} & - s_{y} \\sin{\\left(\\theta \\right)} & 0\\\\s_{x} \\sin{\\left(\\theta \\right)} & s_{y} \\cos{\\left(\\theta \\right)} & 0\\\\0 & 0 & 1\\end{matrix}\\right]\n"
     ]
    },
    {
     "data": {
      "text/latex": [
       "$\\displaystyle \\left[\\begin{matrix}s_{x} \\cos{\\left(\\theta \\right)} & - s_{x} \\sin{\\left(\\theta \\right)} & 0\\\\s_{y} \\sin{\\left(\\theta \\right)} & s_{y} \\cos{\\left(\\theta \\right)} & 0\\\\0 & 0 & 1\\end{matrix}\\right]$"
      ],
      "text/plain": [
       "Matrix([\n",
       "[s_x*cos(theta), -s_x*sin(theta), 0],\n",
       "[s_y*sin(theta),  s_y*cos(theta), 0],\n",
       "[             0,               0, 1]])"
      ]
     },
     "metadata": {},
     "output_type": "display_data"
    },
    {
     "name": "stdout",
     "output_type": "stream",
     "text": [
      "\\left[\\begin{matrix}s_{x} \\cos{\\left(\\theta \\right)} & - s_{x} \\sin{\\left(\\theta \\right)} & 0\\\\s_{y} \\sin{\\left(\\theta \\right)} & s_{y} \\cos{\\left(\\theta \\right)} & 0\\\\0 & 0 & 1\\end{matrix}\\right]\n"
     ]
    }
   ],
   "source": [
    "## Ex. 8\n",
    "\n",
    "M_8 = R @ S\n",
    "N_8 = S @ R\n",
    "\n",
    "display(M_8)\n",
    "print(sp.latex(M_8))\n",
    "\n",
    "display(N_8)\n",
    "print(sp.latex(N_8))\n"
   ]
  },
  {
   "cell_type": "code",
   "execution_count": 23,
   "metadata": {},
   "outputs": [
    {
     "data": {
      "text/latex": [
       "$\\displaystyle \\left[\\begin{matrix}s_{x} & 0 & t_{x}\\\\0 & s_{y} & t_{y}\\\\0 & 0 & 1\\end{matrix}\\right]$"
      ],
      "text/plain": [
       "Matrix([\n",
       "[s_x,   0, t_x],\n",
       "[  0, s_y, t_y],\n",
       "[  0,   0,   1]])"
      ]
     },
     "metadata": {},
     "output_type": "display_data"
    },
    {
     "name": "stdout",
     "output_type": "stream",
     "text": [
      "\\left[\\begin{matrix}s_{x} & 0 & t_{x}\\\\0 & s_{y} & t_{y}\\\\0 & 0 & 1\\end{matrix}\\right]\n"
     ]
    },
    {
     "data": {
      "text/latex": [
       "$\\displaystyle \\left[\\begin{matrix}s_{x} & 0 & s_{x} t_{x}\\\\0 & s_{y} & s_{y} t_{y}\\\\0 & 0 & 1\\end{matrix}\\right]$"
      ],
      "text/plain": [
       "Matrix([\n",
       "[s_x,   0, s_x*t_x],\n",
       "[  0, s_y, s_y*t_y],\n",
       "[  0,   0,       1]])"
      ]
     },
     "metadata": {},
     "output_type": "display_data"
    },
    {
     "name": "stdout",
     "output_type": "stream",
     "text": [
      "\\left[\\begin{matrix}s_{x} & 0 & s_{x} t_{x}\\\\0 & s_{y} & s_{y} t_{y}\\\\0 & 0 & 1\\end{matrix}\\right]\n"
     ]
    },
    {
     "data": {
      "text/latex": [
       "$\\displaystyle \\left[\\begin{matrix}\\cos{\\left(\\theta \\right)} & - \\sin{\\left(\\theta \\right)} & t_{x}\\\\\\sin{\\left(\\theta \\right)} & \\cos{\\left(\\theta \\right)} & t_{y}\\\\0 & 0 & 1\\end{matrix}\\right]$"
      ],
      "text/plain": [
       "Matrix([\n",
       "[cos(theta), -sin(theta), t_x],\n",
       "[sin(theta),  cos(theta), t_y],\n",
       "[         0,           0,   1]])"
      ]
     },
     "metadata": {},
     "output_type": "display_data"
    },
    {
     "name": "stdout",
     "output_type": "stream",
     "text": [
      "\\left[\\begin{matrix}\\cos{\\left(\\theta \\right)} & - \\sin{\\left(\\theta \\right)} & t_{x}\\\\\\sin{\\left(\\theta \\right)} & \\cos{\\left(\\theta \\right)} & t_{y}\\\\0 & 0 & 1\\end{matrix}\\right]\n"
     ]
    },
    {
     "data": {
      "text/latex": [
       "$\\displaystyle \\left[\\begin{matrix}\\cos{\\left(\\theta \\right)} & - \\sin{\\left(\\theta \\right)} & t_{x} \\cos{\\left(\\theta \\right)} - t_{y} \\sin{\\left(\\theta \\right)}\\\\\\sin{\\left(\\theta \\right)} & \\cos{\\left(\\theta \\right)} & t_{x} \\sin{\\left(\\theta \\right)} + t_{y} \\cos{\\left(\\theta \\right)}\\\\0 & 0 & 1\\end{matrix}\\right]$"
      ],
      "text/plain": [
       "Matrix([\n",
       "[cos(theta), -sin(theta), t_x*cos(theta) - t_y*sin(theta)],\n",
       "[sin(theta),  cos(theta), t_x*sin(theta) + t_y*cos(theta)],\n",
       "[         0,           0,                               1]])"
      ]
     },
     "metadata": {},
     "output_type": "display_data"
    },
    {
     "name": "stdout",
     "output_type": "stream",
     "text": [
      "\\left[\\begin{matrix}\\cos{\\left(\\theta \\right)} & - \\sin{\\left(\\theta \\right)} & t_{x} \\cos{\\left(\\theta \\right)} - t_{y} \\sin{\\left(\\theta \\right)}\\\\\\sin{\\left(\\theta \\right)} & \\cos{\\left(\\theta \\right)} & t_{x} \\sin{\\left(\\theta \\right)} + t_{y} \\cos{\\left(\\theta \\right)}\\\\0 & 0 & 1\\end{matrix}\\right]\n"
     ]
    }
   ],
   "source": [
    "# Ex. 9\n",
    "M_9 = T @ S\n",
    "N_9 = S @ T\n",
    "\n",
    "display(M_9)\n",
    "print(sp.latex(M_9))\n",
    "\n",
    "display(N_9)\n",
    "print(sp.latex(N_9))\n",
    "\n",
    "M_9_2 = T @ R\n",
    "N_9_2 = R @ T\n",
    "\n",
    "display(M_9_2)\n",
    "print(sp.latex(M_9_2))\n",
    "\n",
    "display(N_9_2)\n",
    "print(sp.latex(N_9_2))"
   ]
  },
  {
   "cell_type": "code",
   "execution_count": 25,
   "metadata": {},
   "outputs": [
    {
     "data": {
      "text/latex": [
       "$\\displaystyle \\left[\\begin{matrix}1 & 0 & -5\\\\0 & 1 & -2\\\\0 & 0 & 1\\end{matrix}\\right]$"
      ],
      "text/plain": [
       "Matrix([\n",
       "[1, 0, -5],\n",
       "[0, 1, -2],\n",
       "[0, 0,  1]])"
      ]
     },
     "metadata": {},
     "output_type": "display_data"
    },
    {
     "name": "stdout",
     "output_type": "stream",
     "text": [
      "\\left[\\begin{matrix}1 & 0 & -5\\\\0 & 1 & -2\\\\0 & 0 & 1\\end{matrix}\\right]\n"
     ]
    },
    {
     "data": {
      "text/latex": [
       "$\\displaystyle \\left[\\begin{matrix}0 & -1 & 0\\\\1 & 0 & 0\\\\0 & 0 & 1\\end{matrix}\\right]$"
      ],
      "text/plain": [
       "Matrix([\n",
       "[0, -1, 0],\n",
       "[1,  0, 0],\n",
       "[0,  0, 1]])"
      ]
     },
     "metadata": {},
     "output_type": "display_data"
    },
    {
     "name": "stdout",
     "output_type": "stream",
     "text": [
      "\\left[\\begin{matrix}0 & -1 & 0\\\\1 & 0 & 0\\\\0 & 0 & 1\\end{matrix}\\right]\n"
     ]
    },
    {
     "data": {
      "text/latex": [
       "$\\displaystyle \\left[\\begin{matrix}1 & 0 & 4\\\\0 & 1 & 1\\\\0 & 0 & 1\\end{matrix}\\right]$"
      ],
      "text/plain": [
       "Matrix([\n",
       "[1, 0, 4],\n",
       "[0, 1, 1],\n",
       "[0, 0, 1]])"
      ]
     },
     "metadata": {},
     "output_type": "display_data"
    },
    {
     "name": "stdout",
     "output_type": "stream",
     "text": [
      "\\left[\\begin{matrix}1 & 0 & 4\\\\0 & 1 & 1\\\\0 & 0 & 1\\end{matrix}\\right]\n"
     ]
    },
    {
     "data": {
      "text/latex": [
       "$\\displaystyle \\left[\\begin{matrix}0 & -1 & 6\\\\1 & 0 & -4\\\\0 & 0 & 1\\end{matrix}\\right]$"
      ],
      "text/plain": [
       "Matrix([\n",
       "[0, -1,  6],\n",
       "[1,  0, -4],\n",
       "[0,  0,  1]])"
      ]
     },
     "metadata": {},
     "output_type": "display_data"
    },
    {
     "name": "stdout",
     "output_type": "stream",
     "text": [
      "\\left[\\begin{matrix}0 & -1 & 6\\\\1 & 0 & -4\\\\0 & 0 & 1\\end{matrix}\\right]\n"
     ]
    },
    {
     "data": {
      "text/latex": [
       "$\\displaystyle \\left[\\begin{matrix}4\\\\1\\\\1\\end{matrix}\\right]$"
      ],
      "text/plain": [
       "Matrix([\n",
       "[4],\n",
       "[1],\n",
       "[1]])"
      ]
     },
     "metadata": {},
     "output_type": "display_data"
    },
    {
     "data": {
      "text/latex": [
       "$\\displaystyle \\left[\\begin{matrix}4\\\\7\\\\1\\end{matrix}\\right]$"
      ],
      "text/plain": [
       "Matrix([\n",
       "[4],\n",
       "[7],\n",
       "[1]])"
      ]
     },
     "metadata": {},
     "output_type": "display_data"
    },
    {
     "data": {
      "text/latex": [
       "$\\displaystyle \\left[\\begin{matrix}0\\\\4\\\\1\\end{matrix}\\right]$"
      ],
      "text/plain": [
       "Matrix([\n",
       "[0],\n",
       "[4],\n",
       "[1]])"
      ]
     },
     "metadata": {},
     "output_type": "display_data"
    }
   ],
   "source": [
    "# Ex. 10\n",
    "\n",
    "A_10 = sp.Matrix([5, 2, 1])\n",
    "B_10 = sp.Matrix([11, 2, 1])\n",
    "C_10 = sp.Matrix([8, 6, 1])\n",
    "\n",
    "T_10_1 = T.subs({tx: -5, ty: -2})\n",
    "R_10_1 = R.subs({theta: sp.pi/2})\n",
    "T_10_2 = T.subs({tx: 4, ty: 1})\n",
    "M_10 = T_10_2 @ R_10_1 @ T_10_1\n",
    "\n",
    "display(T_10_1)\n",
    "print(sp.latex(T_10_1))\n",
    "display(R_10_1)\n",
    "print(sp.latex(R_10_1))\n",
    "display(T_10_2)\n",
    "print(sp.latex(T_10_2))\n",
    "\n",
    "display(M_10)\n",
    "print(sp.latex(M_10))\n",
    "\n",
    "display(M_10 @ A_10)\n",
    "display(M_10 @ B_10)\n",
    "display(M_10 @ C_10)"
   ]
  },
  {
   "cell_type": "code",
   "execution_count": 34,
   "metadata": {},
   "outputs": [
    {
     "data": {
      "text/latex": [
       "$\\displaystyle \\left[\\begin{matrix}1 & 0 & -4.5\\\\0 & 1 & -8.5\\\\0 & 0 & 1\\end{matrix}\\right]$"
      ],
      "text/plain": [
       "Matrix([\n",
       "[1, 0, -4.5],\n",
       "[0, 1, -8.5],\n",
       "[0, 0,    1]])"
      ]
     },
     "metadata": {},
     "output_type": "display_data"
    },
    {
     "name": "stdout",
     "output_type": "stream",
     "text": [
      "\\left[\\begin{matrix}1 & 0 & -4.5\\\\0 & 1 & -8.5\\\\0 & 0 & 1\\end{matrix}\\right]\n"
     ]
    },
    {
     "data": {
      "text/latex": [
       "$\\displaystyle \\left[\\begin{matrix}\\frac{\\sqrt{2}}{2} & - \\frac{\\sqrt{2}}{2} & 0\\\\\\frac{\\sqrt{2}}{2} & \\frac{\\sqrt{2}}{2} & 0\\\\0 & 0 & 1\\end{matrix}\\right]$"
      ],
      "text/plain": [
       "Matrix([\n",
       "[sqrt(2)/2, -sqrt(2)/2, 0],\n",
       "[sqrt(2)/2,  sqrt(2)/2, 0],\n",
       "[        0,          0, 1]])"
      ]
     },
     "metadata": {},
     "output_type": "display_data"
    },
    {
     "name": "stdout",
     "output_type": "stream",
     "text": [
      "\\left[\\begin{matrix}\\frac{\\sqrt{2}}{2} & - \\frac{\\sqrt{2}}{2} & 0\\\\\\frac{\\sqrt{2}}{2} & \\frac{\\sqrt{2}}{2} & 0\\\\0 & 0 & 1\\end{matrix}\\right]\n"
     ]
    },
    {
     "data": {
      "text/latex": [
       "$\\displaystyle \\left[\\begin{matrix}1 & 0 & 4.5\\\\0 & 1 & 8.5\\\\0 & 0 & 1\\end{matrix}\\right]$"
      ],
      "text/plain": [
       "Matrix([\n",
       "[1, 0, 4.5],\n",
       "[0, 1, 8.5],\n",
       "[0, 0,   1]])"
      ]
     },
     "metadata": {},
     "output_type": "display_data"
    },
    {
     "name": "stdout",
     "output_type": "stream",
     "text": [
      "\\left[\\begin{matrix}1 & 0 & 4.5\\\\0 & 1 & 8.5\\\\0 & 0 & 1\\end{matrix}\\right]\n"
     ]
    },
    {
     "data": {
      "text/latex": [
       "$\\displaystyle \\left[\\begin{matrix}\\frac{\\sqrt{2}}{2} & - \\frac{\\sqrt{2}}{2} & 2.0 \\sqrt{2} + 4.5\\\\\\frac{\\sqrt{2}}{2} & \\frac{\\sqrt{2}}{2} & 8.5 - 6.5 \\sqrt{2}\\\\0 & 0 & 1\\end{matrix}\\right]$"
      ],
      "text/plain": [
       "Matrix([\n",
       "[sqrt(2)/2, -sqrt(2)/2, 2.0*sqrt(2) + 4.5],\n",
       "[sqrt(2)/2,  sqrt(2)/2, 8.5 - 6.5*sqrt(2)],\n",
       "[        0,          0,                 1]])"
      ]
     },
     "metadata": {},
     "output_type": "display_data"
    },
    {
     "name": "stdout",
     "output_type": "stream",
     "text": [
      "\\left[\\begin{matrix}\\frac{\\sqrt{2}}{2} & - \\frac{\\sqrt{2}}{2} & 2.0 \\sqrt{2} + 4.5\\\\\\frac{\\sqrt{2}}{2} & \\frac{\\sqrt{2}}{2} & 8.5 - 6.5 \\sqrt{2}\\\\0 & 0 & 1\\end{matrix}\\right]\n"
     ]
    },
    {
     "data": {
      "text/latex": [
       "$\\displaystyle \\left[\\begin{matrix}0.707 & -0.707 & 7.33\\\\0.707 & 0.707 & -0.692\\\\0 & 0 & 1.0\\end{matrix}\\right]$"
      ],
      "text/plain": [
       "Matrix([\n",
       "[0.707, -0.707,   7.33],\n",
       "[0.707,  0.707, -0.692],\n",
       "[    0,      0,    1.0]])"
      ]
     },
     "metadata": {},
     "output_type": "display_data"
    },
    {
     "name": "stdout",
     "output_type": "stream",
     "text": [
      "\\left[\\begin{matrix}0.707 & -0.707 & 7.33\\\\0.707 & 0.707 & -0.692\\\\0 & 0 & 1.0\\end{matrix}\\right]\n"
     ]
    }
   ],
   "source": [
    "## Ex. 11\n",
    "\n",
    "L_11 = 5\n",
    "tx_11 = M + 5/2\n",
    "ty_11 = D + 5/2\n",
    "r_11 = sp.pi/4\n",
    "\n",
    "T_11_1 = T.subs({tx: -tx_11, ty: -ty_11})\n",
    "R_11_1 = R.subs({theta: r_11})\n",
    "T_11_2 = T.subs({tx: tx_11, ty: ty_11})\n",
    "\n",
    "display(T_11_1)\n",
    "print(sp.latex(T_11_1))\n",
    "display(R_11_1)\n",
    "print(sp.latex(R_11_1))\n",
    "display(T_11_2)\n",
    "print(sp.latex(T_11_2))\n",
    "\n",
    "M_11 = T_11_2 @ R_11_1 @ T_11_1\n",
    "\n",
    "display(M_11)\n",
    "print(sp.latex(M_11))\n",
    "\n",
    "display(M_11.evalf(3))\n",
    "print(sp.latex(M_11.evalf(3)))"
   ]
  }
 ],
 "metadata": {
  "kernelspec": {
   "display_name": "base",
   "language": "python",
   "name": "python3"
  },
  "language_info": {
   "codemirror_mode": {
    "name": "ipython",
    "version": 3
   },
   "file_extension": ".py",
   "mimetype": "text/x-python",
   "name": "python",
   "nbconvert_exporter": "python",
   "pygments_lexer": "ipython3",
   "version": "3.11.5"
  }
 },
 "nbformat": 4,
 "nbformat_minor": 2
}
